{
  "nbformat": 4,
  "nbformat_minor": 0,
  "metadata": {
    "colab": {
      "provenance": [],
      "authorship_tag": "ABX9TyNhOFnUhVoHZOrDx0DMavag",
      "include_colab_link": true
    },
    "kernelspec": {
      "name": "python3",
      "display_name": "Python 3"
    },
    "language_info": {
      "name": "python"
    }
  },
  "cells": [
    {
      "cell_type": "markdown",
      "metadata": {
        "id": "view-in-github",
        "colab_type": "text"
      },
      "source": [
        "<a href=\"https://colab.research.google.com/github/aishwaryanalawade01/Aishwarya_AIMLBootcamp_Genzeon_2023/blob/main/AIML_Day1.ipynb\" target=\"_parent\"><img src=\"https://colab.research.google.com/assets/colab-badge.svg\" alt=\"Open In Colab\"/></a>"
      ]
    },
    {
      "cell_type": "code",
      "execution_count": null,
      "metadata": {
        "colab": {
          "base_uri": "https://localhost:8080/"
        },
        "id": "L_u0x2kY6CN7",
        "outputId": "a93fcb06-4fb1-4b7e-d451-e97d80b87df9"
      },
      "outputs": [
        {
          "output_type": "stream",
          "name": "stdout",
          "text": [
            "3.0 4\n",
            "7.0\n",
            "-1.0\n",
            "81.0\n",
            "0.0\n",
            "False\n",
            "True\n",
            "False\n",
            "G\n",
            "n\n",
            "Genzeon\n",
            "enzeon\n",
            "Genz\n",
            "nze\n",
            "Genzeo\n",
            "Gne\n",
            "noezneG\n",
            "hipython\n",
            "hihihihi\n",
            "HEY THERE\n",
            "hey there\n",
            "HEY THERE\n",
            "[1, 2, 'a', 'hello']\n",
            "[99, [1, 2, 'a', 'hello'], [4, 6, 3.5]]\n",
            "e\n",
            "ell\n",
            "[1, 2, 3, 4, 5]\n",
            "[15, 23, 33, 54, 90]\n"
          ]
        }
      ],
      "source": [
        "x=True\n",
        "y=False\n",
        "\n",
        "\n",
        "s=\"hello world\"\n",
        "#x=b\"hello\"\n",
        "x=bytearray(5)\n",
        "x=memoryview(bytes(4))\n",
        "\n",
        "a=3\n",
        "b=4.0\n",
        "c=float(a)\n",
        "d=int(b)\n",
        "print(c,d)\n",
        "\n",
        "e=a+b\n",
        "print(a+b)\n",
        "print(a-b)\n",
        "print(a**b)\n",
        "print(a//b)\n",
        "\n",
        "\n",
        "x=\"hello world\"\n",
        "y={1:'a',2:'b'}\n",
        "print('H' in x)\n",
        "print(1 in y)\n",
        "print('a' in y)\n",
        "\n",
        "str1=\"Genzeon\"\n",
        "print(str1[0])\n",
        "print(str1[-1])\n",
        "print(str1[:])\n",
        "print(str1[1:])\n",
        "print(str1[:4])\n",
        "print(str1[2:5])\n",
        "print(str1[-7:-1])\n",
        "print(str1[0:5:2])\n",
        "print(str1[::-1])\n",
        "\n",
        "\n",
        "a=\"hi\"\n",
        "b=\"python\"\n",
        "c=a+b\n",
        "d=a*4\n",
        "print(c)\n",
        "print(d)\n",
        "\n",
        "\n",
        "str=\"hey there\"\n",
        "print(str.upper())\n",
        "print(str.strip())\n",
        "print(str.swapcase())\n",
        "\n",
        "\n",
        "myl=[1,2,'a',\"hello\"]\n",
        "print(myl)\n",
        "myl2=[4,6,3.5]\n",
        "myl3=[99,myl,myl2]\n",
        "print(myl3)\n",
        "print(myl[3][1])\n",
        "print(myl3[1][3][1:4])\n",
        "\n",
        "lis=[1,2,3,4]\n",
        "lis.append(5)\n",
        "print(lis)\n",
        "\n",
        "l1=[33,23,15,54,90]\n",
        "l1.sort()\n",
        "print(l1)"
      ]
    }
  ]
}